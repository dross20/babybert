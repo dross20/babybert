{
 "cells": [
  {
   "cell_type": "markdown",
   "metadata": {},
   "source": [
    "<div style=\"text-align: center;\">\n",
    "        <img src=\"./static/tokenizer_header.png\" width=\"400px\" style=\"height: auto;\"></img>\n",
    "</div>\n",
    "\n",
    "---"
   ]
  },
  {
   "cell_type": "markdown",
   "metadata": {},
   "source": [
    "This notebook demonstrates how to use the `WordPieceTokenizer` class for training and tokenization."
   ]
  },
  {
   "cell_type": "markdown",
   "metadata": {},
   "source": [
    "#### 📦 Importing dependencies"
   ]
  },
  {
   "cell_type": "code",
   "execution_count": 26,
   "metadata": {},
   "outputs": [],
   "source": [
    "from babybert.tokenizer import TokenizerConfig, WordPieceTokenizer\n",
    "from babybert.data import load_corpus"
   ]
  },
  {
   "cell_type": "markdown",
   "metadata": {},
   "source": [
    "#### 📖 Loading corpus"
   ]
  },
  {
   "cell_type": "code",
   "execution_count": 27,
   "metadata": {},
   "outputs": [],
   "source": [
    "corpus = load_corpus(\"./data/corpus.txt\")"
   ]
  },
  {
   "cell_type": "markdown",
   "metadata": {},
   "source": [
    "#### ⚙️ Instantiating tokenizer"
   ]
  },
  {
   "cell_type": "code",
   "execution_count": 28,
   "metadata": {},
   "outputs": [],
   "source": [
    "config = TokenizerConfig(\n",
    "    target_vocab_size=5000\n",
    ")\n",
    "\n",
    "tokenizer = WordPieceTokenizer(config)"
   ]
  },
  {
   "cell_type": "markdown",
   "metadata": {},
   "source": [
    "#### 🏋️ Training tokenizer"
   ]
  },
  {
   "cell_type": "code",
   "execution_count": 29,
   "metadata": {},
   "outputs": [],
   "source": [
    "tokenizer.train(corpus)"
   ]
  },
  {
   "cell_type": "code",
   "execution_count": 30,
   "metadata": {},
   "outputs": [
    {
     "name": "stdout",
     "output_type": "stream",
     "text": [
      "Tokenizer vocab size: 5000\n"
     ]
    }
   ],
   "source": [
    "print(f\"Tokenizer vocab size: {tokenizer.vocab_size}\")"
   ]
  },
  {
   "cell_type": "code",
   "execution_count": 31,
   "metadata": {},
   "outputs": [
    {
     "name": "stdout",
     "output_type": "stream",
     "text": [
      "First ten tokens in vocab: ['##i', ',', 'u', 's', '##p', '##b', '##-', '##1', '##+', '5']\n"
     ]
    }
   ],
   "source": [
    "print(f\"First ten tokens in vocab: {tokenizer.vocab[:10]}\")"
   ]
  },
  {
   "cell_type": "markdown",
   "metadata": {},
   "source": [
    "#### 🚀 Using trained tokenizer"
   ]
  },
  {
   "cell_type": "code",
   "execution_count": 32,
   "metadata": {},
   "outputs": [
    {
     "name": "stdout",
     "output_type": "stream",
     "text": [
      "Original sentence: Hello, world!\n",
      "Tokenized sentence: ['h', '##e', '##ll', '##o', ',', 'world', '!']\n",
      "Original sentence: Here is a sentence.\n",
      "Tokenized sentence: ['h', '##e', '##r', '##e', 'is', 'a', 'sentence', '.']\n",
      "Original sentence: How are you today?\n",
      "Tokenized sentence: ['how', 'ar', '##e', 'you', 'to', '##d', '##ay', '[UNK]']\n"
     ]
    }
   ],
   "source": [
    "examples = [\n",
    "    \"Hello, world!\",\n",
    "    \"Here is a sentence.\",\n",
    "    \"How are you today?\"\n",
    "]\n",
    "\n",
    "for example in examples:\n",
    "    tokenized_example = tokenizer.tokenize(example)\n",
    "    print(f\"Original sentence: {example}\")\n",
    "    print(f\"Tokenized sentence: {tokenized_example}\")"
   ]
  },
  {
   "cell_type": "code",
   "execution_count": 33,
   "metadata": {},
   "outputs": [
    {
     "name": "stdout",
     "output_type": "stream",
     "text": [
      "Token IDs: [53, 61, 3671, 41, 1, 4498, 78]\n"
     ]
    }
   ],
   "source": [
    "token_ids = tokenizer.encode(examples[0])\n",
    "print(f\"Token IDs: {token_ids}\")"
   ]
  },
  {
   "cell_type": "code",
   "execution_count": 34,
   "metadata": {},
   "outputs": [
    {
     "name": "stdout",
     "output_type": "stream",
     "text": [
      "Decoded tokens: ['h', '##e', '##ll', '##o', ',', 'world', '!']\n"
     ]
    }
   ],
   "source": [
    "tokens = tokenizer.decode(token_ids)\n",
    "print(f\"Decoded tokens: {tokens}\")"
   ]
  },
  {
   "cell_type": "markdown",
   "metadata": {},
   "source": [
    "#### 💾 Saving trained tokenizer"
   ]
  },
  {
   "cell_type": "code",
   "execution_count": 35,
   "metadata": {},
   "outputs": [],
   "source": [
    "path = \"./my_tokenizer\"\n",
    "tokenizer.save_pretrained(path)"
   ]
  },
  {
   "cell_type": "code",
   "execution_count": 36,
   "metadata": {},
   "outputs": [
    {
     "name": "stdout",
     "output_type": "stream",
     "text": [
      "Tokenized text: ['h', '##e', '##ll', '##o', ',', 'world', '!']\n"
     ]
    }
   ],
   "source": [
    "del tokenizer\n",
    "\n",
    "tokenizer = WordPieceTokenizer.from_pretrained(path)\n",
    "print(f\"Tokenized text: {tokenizer.tokenize(examples[0])}\")"
   ]
  }
 ],
 "metadata": {
  "kernelspec": {
   "display_name": ".venv",
   "language": "python",
   "name": "python3"
  },
  "language_info": {
   "name": "python",
   "version": "3.12.0"
  }
 },
 "nbformat": 4,
 "nbformat_minor": 2
}
